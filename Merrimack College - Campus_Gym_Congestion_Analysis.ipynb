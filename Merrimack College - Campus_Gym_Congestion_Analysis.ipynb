{
  "nbformat": 4,
  "nbformat_minor": 0,
  "metadata": {
    "colab": {
      "provenance": []
    },
    "kernelspec": {
      "name": "python3",
      "display_name": "Python 3"
    },
    "language_info": {
      "name": "python"
    }
  },
  "cells": [
    {
      "cell_type": "markdown",
      "source": [
        "Imports"
      ],
      "metadata": {
        "id": "eKpeafYJRuo2"
      }
    },
    {
      "cell_type": "code",
      "execution_count": null,
      "metadata": {
        "id": "icg-lVtERY8p"
      },
      "outputs": [],
      "source": [
        "import pandas as pd\n",
        "import numpy as np\n",
        "import math\n",
        "import random as rd\n",
        "import matplotlib.pyplot as plt\n",
        "from datetime import datetime\n",
        "import calendar\n",
        "import locale\n",
        "\n",
        "locale.setlocale(locale.LC_TIME, \"en_US.utf8\") # English US"
      ]
    },
    {
      "cell_type": "code",
      "source": [
        "from google.colab import drive\n",
        "drive.mount('/content/drive')"
      ],
      "metadata": {
        "id": "566uIatbEZAH"
      },
      "execution_count": null,
      "outputs": []
    },
    {
      "cell_type": "markdown",
      "source": [
        "Import the dependent data in from\\\n",
        "`Fitness & Rec Survey 2024!!! (Responses) - Form Responses.csv`\n",
        "\n"
      ],
      "metadata": {
        "id": "mASKjQq1RyfP"
      }
    },
    {
      "cell_type": "code",
      "source": [
        "# Data paths\n",
        "d_path = 'drive/Shareddrives/Merrimack Gym Congestion Analysis/Fitness & Rec Survey 2024!!! (Responses) - Form Responses 1 (2).csv'\n",
        "i_fall_path = 'drive/Shareddrives/Merrimack Gym Congestion Analysis/Swipe 8.28-12.8.23.xlsx'\n",
        "i_spring_path = 'drive/Shareddrives/Merrimack Gym Congestion Analysis/Swipe 1.17-4.16.24.xlsx'\n",
        "\n",
        "# Read in the data\n",
        "d_df = pd.read_csv(d_path)\n",
        "i_fall_df = pd.read_excel(i_fall_path)\n",
        "i_spring_df = pd.read_excel(i_spring_path)\n",
        "\n",
        "d_df\n",
        "i_fall_df\n",
        "i_spring_df\n"
      ],
      "metadata": {
        "id": "k39JAdWsRuZC"
      },
      "execution_count": null,
      "outputs": []
    },
    {
      "source": [
        "# @title Affiliation\n",
        "\n",
        "from matplotlib import pyplot as plt\n",
        "import seaborn as sns\n",
        "i_spring_df.groupby('Affiliation').size().plot(kind='barh', color=sns.palettes.mpl_palette('Dark2'))\n",
        "plt.gca().spines[['top', 'right',]].set_visible(False)"
      ],
      "cell_type": "code",
      "execution_count": null,
      "outputs": [],
      "metadata": {
        "cellView": "form",
        "id": "Dg6-ibvRe_If"
      }
    },
    {
      "cell_type": "markdown",
      "source": [
        "**Data Cleaning** \\\n",
        "\n",
        "Two stages\n",
        "\n",
        "\n",
        "*   Remove student identifiers, Name & Email Addresses, from All three datasets; to anonymize the data\n",
        "*   Drop rows in dependent data where gener != Male or Female\n",
        "*   Drop rows in independent data where gener != Male or Female\n",
        "*   Drop rows in independent data for breaks where Date is:\n",
        "    *  Fall\n",
        "      *   09/04/2023\n",
        "      *   10/09/2023\n",
        "      *   10/10/2023\n",
        "      *   11/10/2023\n",
        "      *   11/22/2023\n",
        "      *   11/23/2023\n",
        "      *   11/24/2023      \n",
        "      *   11/25/2023\n",
        "      *   11/26/2023\n",
        "    *  Spring\n",
        "      *   02/19/2024\n",
        "      *   03/04/2024\n",
        "      *   03/05/2024\n",
        "      *   03/06/2024\n",
        "      *   03/07/2024\n",
        "      *   03/08/2024\n",
        "      *   03/09/2024\n",
        "      *   03/28/2024\n",
        "      *   03/29/2024\n",
        "      *   03/30/2024\n",
        "      *   03/31/2024\n",
        "      *   04/01/2024\n",
        "\n",
        "      \n",
        "\n",
        "\n",
        "\n",
        "\n",
        "\n",
        "\n",
        "\n"
      ],
      "metadata": {
        "id": "aI9ff_R_6zjh"
      }
    },
    {
      "cell_type": "code",
      "source": [
        "# Drop rows in dependent data where gener != Male or Female\n",
        "valid_gender = ['Male', 'Female']\n",
        "d_df = d_df[d_df['Gender'].isin(valid_gender) == True]\n",
        "\n",
        "# Drop rows in independent data where gener != Male or Female\n",
        "i_fall_df = i_fall_df[i_fall_df['Gender'].isin(valid_gender) == True]\n",
        "i_spring_df = i_spring_df[i_spring_df['Gender'].isin(valid_gender) == True]\n",
        "\n",
        "# Drop rows in independent data for breaks where Date is: Fall\n",
        "invalid_fall_dates = ['09/04/2023', '10/09/2023', '10/10/2023', '11/10/2023', '11/22/2023', '11/23/2023', '11/24/2023', '11/25/2023', '11/26/2023']\n",
        "i_fall_df = i_fall_df[i_fall_df['Date'].str.contains('|'.join(invalid_fall_dates)) != True]\n",
        "\n",
        "# Drop rows in independent data for breaks where Date is: Spring\n",
        "invalid_spring_dates = ['02/19/2024', '03/04/2024', '03/05/2024', '03/06/2024', '03/07/2024', '03/08/2024', '03/09/2024', '03/28/2024', '03/29/2024', '03/30/2024', '03/31/2024', '04/01/2024']\n",
        "i_spring_df = i_spring_df[i_spring_df['Date'].str.contains('|'.join(invalid_spring_dates)) != True]\n",
        "\n",
        "# Drop the \"Name\" column in independent data.\n",
        "i_fall_df = i_fall_df.drop(['Name'], axis=1, errors='ignore')\n",
        "i_spring_df = i_spring_df.drop(['Name'], axis=1, errors='ignore')\n",
        "\n",
        "# Drop the \"Email Address\" column in dependent data.\n",
        "d_df = d_df.drop('Email Address', axis=1, errors='ignore')\n",
        "\n",
        "d_df"
      ],
      "metadata": {
        "id": "no8lZ0NE6yvY"
      },
      "execution_count": null,
      "outputs": []
    },
    {
      "cell_type": "markdown",
      "source": [
        "**Merging**\n",
        "\n",
        "Merge the i_fall and i_spring dataframes together. \\\n",
        "This will be used to predict total year congestion."
      ],
      "metadata": {
        "id": "fq1tRNBkpIWU"
      }
    },
    {
      "cell_type": "code",
      "source": [
        "# Merge the i_fall_df && i_spring_df dataframes\n",
        "i_data = pd.concat([i_fall_df, i_spring_df])\n",
        "i_data"
      ],
      "metadata": {
        "id": "EBfM7uNUpWXC"
      },
      "execution_count": null,
      "outputs": []
    },
    {
      "cell_type": "markdown",
      "source": [
        "***Graph*** \\\n",
        "**Average Male vs Female Weekly Swipe Frequency**  \n",
        "*Independent Data Only*  \n",
        "\n",
        "Graph depicting dependent data in Fall and Spring where Male and Female's are compared based on the day they swipe in.\n",
        "\n",
        "Graphs needed: Ratio of Male's to Female's based on independent swipe data.\n",
        "\n",
        "\n"
      ],
      "metadata": {
        "id": "rMnpOpqwCicY"
      }
    },
    {
      "cell_type": "code",
      "source": [
        "df = i_data\n",
        "season = \"Data: 2023-2024\"\n",
        "\n",
        "Male = [[], [], [], [], [], [], []]\n",
        "Female = [[], [], [], [], [], [], []]\n",
        "\n",
        "# Dictionaries to hold daily swipes, will compute the average over a day afterwads.\n",
        "Male_D = {}\n",
        "Female_D = {}\n",
        "\n",
        "def getDate(key):\n",
        "  # https://www.geeksforgeeks.org/python-program-to-find-day-of-the-week-for-a-given-date/\n",
        "  # Convert the input date string to a datetime object\n",
        "  #   given_date = datetime.datetime.strptime(key, '%m/%d/%Y %H:%M%p')\n",
        "  given_date = datetime.strptime(key, '%m/%d/%Y') # Only looking at DD/MM/YYYY\n",
        "  # Use isoweekday() to get the weekday (Monday is 1 and Sunday is 7)\n",
        "  return given_date.weekday()  # Convert (Monday is 1 and Sunday is 7)\n",
        "\n",
        "# Adds to the correct gender array based on day of week\n",
        "def func(d):\n",
        "    gender = d['Gender']\n",
        "    date = d['Date'].split(\" \")[0] # Get only the DD/MM/YYYY portion of the date.\n",
        "    if gender == 'Male':\n",
        "        if date in Male_D:\n",
        "          Male_D[date] = Male_D[date] + 1\n",
        "        else:\n",
        "          Male_D[date] = 1\n",
        "\n",
        "    elif gender == 'Female':\n",
        "        if date in Female_D:\n",
        "          Female_D[date] = Female_D[date] + 1\n",
        "        else:\n",
        "          Female_D[date] = 1\n",
        "\n",
        "# Populate Male_D and Female_D\n",
        "df.apply(func, axis=1)\n",
        "\n",
        "# Add all of the days from each dictionary to Male and Female based on their respective day of the week\n",
        "for key, val in Male_D.items():\n",
        "  date = getDate(key)\n",
        "  Male[date].append(val)\n",
        "\n",
        "for key, val in Female_D.items():\n",
        "  date = getDate(key)\n",
        "  Female[date].append(val)\n",
        "\n",
        "# Flatten and Average Male and Female\n",
        "Male_Flat = [sum(x)/len(x) for x in Male]\n",
        "Female_Flat = [sum(x)/len(x) for x in Female]\n",
        "\n",
        "# Create the graph's and plot\n",
        "plotdata = pd.DataFrame({ \"Male\": Male_Flat, \"Female\": Female_Flat }, index=[\"Monday\", \"Tuseday\", \"Wednesday\", \"Thursday\", \"Friday\", \"Saturday\", \"Sunday\"])\n",
        "plotdata.plot(kind=\"bar\",figsize=(15, 8))\n",
        "plt.title(f\"{season} Average Male vs Female Weekly Swipe Frequency\")\n",
        "\n",
        "plt.xlabel(\"Day of the week\")\n",
        "\n",
        "plt.ylabel(\"# of Swipes\")\n",
        "\n",
        "plt.show()\n"
      ],
      "metadata": {
        "id": "mz288k0bCiLc"
      },
      "execution_count": null,
      "outputs": []
    },
    {
      "cell_type": "markdown",
      "source": [
        "***Graph*** \\\n",
        "**Male vs Female Average Daily Swipe Time**  \n",
        "*Independent Data Only*  \n",
        "\n",
        "Graph depicting dependent data in Fall and Spring where Male and Female's are compared based on the day they swipe in.\n",
        "\n",
        "Graphs needed: Ratio of Male's to Female's based on independent swipe data.\n",
        "\n",
        "\n"
      ],
      "metadata": {
        "id": "FRp6bqXzS5ku"
      }
    },
    {
      "cell_type": "code",
      "source": [
        "df = i_data\n",
        "season = \"Data: 2023-2024\"\n",
        "\n",
        "        # List of 7 dictionaries\n",
        "        # Each dictionary represents one day of the week 0 (Monday) - 6 (Sunday)\n",
        "        #   Inside each dictionary contains a key of hours to # of swipes\n",
        "Male = [{}, {}, {}, {}, {}, {}, {}]\n",
        "Female = [{}, {}, {}, {}, {}, {}, {}]\n",
        "\n",
        "Day_Counts = [[], [], [], [], [], [], []] # Represents unique days Each dictionary represents one day of the week 0 (Sun) - 6 (Sat)\n",
        "                                          # Used later to compute the average swipes on a given day\n",
        "def getDayOfWeek(key):\n",
        "  # Convert the input date string to a datetime object, and set the AM/PM to capital for the datetime parser.\n",
        "  key.replace(\"am\", \"AM\")\n",
        "  key.replace(\"pm\", \"PM\")\n",
        "  given_date = datetime.strptime(key, '%m/%d/%Y %I:%M%p')\n",
        "  return given_date.weekday()  # Convert Sunday from 6 to 0\n",
        "\n",
        "def getHourOfDay(key):\n",
        "  # Convert the input date string to a datetime object, and set the AM/PM to capital for the datetime parser.\n",
        "  key.replace(\"am\", \"AM\")\n",
        "  key.replace(\"pm\", \"PM\")\n",
        "  given_date = datetime.strptime(key, '%m/%d/%Y %I:%M%p')\n",
        "  return given_date.strftime(\"%I%p\")  # Convert Sunday from 6 to 0\n",
        "\n",
        "def getDate(key):\n",
        "  # Convert the input date string to a datetime object, and set the AM/PM to capital for the datetime parser.\n",
        "  key.replace(\"am\", \"AM\")\n",
        "  key.replace(\"pm\", \"PM\")\n",
        "  given_date = datetime.strptime(key, '%m/%d/%Y %I:%M%p')\n",
        "  return given_date.strftime(\"%m/%d/%Y\")  # Convert to date\n",
        "\n",
        "# Adds to the correct gender array based on day of week\n",
        "def func(d):\n",
        "    gender = d['Gender']\n",
        "    date = d['Date'] # Get only the DD/MM/YYYY HH portion of the date.\n",
        "\n",
        "    day_of_week = getDayOfWeek(date) # Gets the day of week (0 (Sun) - 6 (Sat))\n",
        "    hour = getHourOfDay(date) # Gets the hour of the day from date\n",
        "    date = getDate(date)\n",
        "\n",
        "    # Add the date to Day_Counts if it does not contain currentely\n",
        "    if date not in Day_Counts[day_of_week]:\n",
        "      Day_Counts[day_of_week].append(date)\n",
        "\n",
        "    if gender == 'Male':\n",
        "        Male_D = Male[day_of_week]\n",
        "        if hour in Male_D:\n",
        "          Male_D[hour] = Male_D[hour] + 1\n",
        "        else:\n",
        "          Male_D[hour] = 1\n",
        "\n",
        "    elif gender == 'Female':\n",
        "        Female_D = Female[day_of_week]\n",
        "        if hour in Female_D:\n",
        "          Female_D[hour] = Female_D[hour] + 1\n",
        "        else:\n",
        "          Female_D[hour] = 1\n",
        "\n",
        "# Populate Male_D and Female_D\n",
        "df.apply(func, axis=1)\n",
        "\n",
        "# Compute the averages of Male_D and Female_D for each day of the week\n",
        "for i in range(len(Male)):\n",
        "  num_of_days = len(Day_Counts[i])\n",
        "  for key, value in Male[i].items():\n",
        "    Male[i][key] = value / num_of_days\n",
        "\n",
        "for i in range(len(Female)):\n",
        "  num_of_days = len(Day_Counts[i])\n",
        "  for key, value in Female[i].items():\n",
        "    Female[i][key] = value / num_of_days\n",
        "\n",
        "\n",
        "plt.tight_layout() # Assign a tigh layout for the plots\n",
        "# Plot the averages constructed\n",
        "fig, (ax1, ax2) = plt.subplots(2, figsize=(15, 8))\n",
        "fig.suptitle(f\"{season} Male vs Female Average Daily Swipe Time\")\n",
        "fig.tight_layout()\n",
        "\n",
        "ax1.set_title(\"Male\")\n",
        "ax2.set_title(\"Female\")\n",
        "\n",
        "#ax1.plot(kind=\"line\",figsize=(15, 8))\n",
        "#ax2.plot(kind=\"line\",figsize=(15, 8))\n",
        "\n",
        "#ax1.plot(np.array([1, 2, 3, 4, 5]))\n",
        "\n",
        "dates = ['06AM', '07AM', '08AM', '09AM', '10AM', '11AM', '12PM', '01PM', '02PM', '03PM', '04PM', '05PM', '06PM', '07PM', '08PM', '09PM', '10PM']\n",
        "weekdays = [\"Monday\", \"Tuseday\", \"Wednesday\", \"Thursday\", \"Friday\", \"Saturday\", \"Sunday\"]\n",
        "\n",
        "# Append all Weekday Male Averages to the graph\n",
        "for day in range(len(Male)):\n",
        "  # Add all of the dates to the image\n",
        "  swipe_count = [Male[day][x] if x in Male[day] else 0.0 for x in dates]\n",
        "  ax1.plot(dates, swipe_count, '-', label=weekdays[day]) # this will show date at the x-axis\n",
        "\n",
        "# Append all Weekday Male Averages to the graph\n",
        "for day in range(len(Female)):\n",
        "  # Add all of the dates to the image\n",
        "  swipe_count = [Female[day][x] if x in Female[day] else 0.0 for x in dates]\n",
        "  ax2.plot(dates, swipe_count, '-', label=weekdays[day]) # this will show date at the x-axis\n",
        "\n",
        "# Legend\n",
        "ax1.legend()\n",
        "ax2.legend()\n",
        "\n",
        "fig.show()\n",
        "\n",
        "Male_Swipe = Male\n",
        "Female_Swipe = Female\n"
      ],
      "metadata": {
        "id": "oUjhrgJdS6AM"
      },
      "execution_count": null,
      "outputs": []
    },
    {
      "cell_type": "markdown",
      "source": [
        "***Graph*** \\\n",
        "**Male vs Female Gym Zone Usage**  \n",
        "*Dependent Data Only*  \n",
        "\n",
        "Goal of this graph is to create a bar graph chart to list out each of the seven zones in the gym. \\\n",
        "Cardio (front room),\tCables Area (middle room),\tWeight Room (back room), Studio 1 (front), Spin Studio,\tStudio 3 (located in Weight Room),\tIndoor Track\n",
        "\n",
        "And determine if Gender effects the congestion of these areas. \\\n",
        "Based on the survey data.\n",
        "\n",
        "\n",
        "\n"
      ],
      "metadata": {
        "id": "fTBbeVY_eKmA"
      }
    },
    {
      "cell_type": "code",
      "source": [
        "df = d_df\n",
        "\n",
        "# Represents our estimated distribution of how utilized a zone is when determining priority\n",
        "# This can be changed\n",
        "weights = [0.5, 0.30, 0.15, 0.05, 0.0, 0.0, 0.0]\n",
        "\n",
        "# Seven zones of the gym\n",
        "# Cardio (front room),\tCables Area (middle room),\tWeight Room (back room), Studio 1 (front), Spin Studio,\tStudio 3 (located in Weight Room),\tIndoor Track\n",
        "zone_map = ['Cardio (front room)',\t'Cables Area (middle room)',\t'Weight Room (back room)', 'Studio 1 (front)', 'Spin Studio',\t'Studio 3 (located in Weight Room)',\t'Indoor Track']\n",
        "Male = [0, 0, 0, 0, 0, 0, 0]\n",
        "Female = [0, 0, 0, 0, 0, 0, 0]\n",
        "\n",
        "# Function to determine the top choices from a survey result\n",
        "def func(d):\n",
        "  order = [d['When I use the MC Fitness Center I spend most of my time: [1st choice]'],\n",
        "           d['When I use the MC Fitness Center I spend most of my time: [2nd choice]'],\n",
        "           d['When I use the MC Fitness Center I spend most of my time: [3rd choice]'],\n",
        "           d['When I use the MC Fitness Center I spend most of my time: [4th choice]'],\n",
        "           d['When I use the MC Fitness Center I spend most of my time: [5th choice]'],\n",
        "           d['When I use the MC Fitness Center I spend most of my time: [6th choice]'],\n",
        "           d['When I use the MC Fitness Center I spend most of my time: [7th choice]']\n",
        "           ]\n",
        "\n",
        "  # Map the indexes of the top priorities for a user\n",
        "  # TODO, Handle NAN\n",
        "  map = []\n",
        "  for i in range(len(order)):\n",
        "    if not (type(order[i]) == float and math.isnan(order[i])):\n",
        "      map.append(zone_map.index(order[i]))\n",
        "\n",
        "  #map = [zone_map.index(first), zone_map.index(second), zone_map.index(third), zone_map.index(fourth), zone_map.index(fifth), zone_map.index(sixth), zone_map.index(seventh)]\n",
        "\n",
        "  # If male add the male weights\n",
        "  if d['Gender'] == 'Male':\n",
        "    for i in range(len(map)):\n",
        "      Male[map[i]] = Male[map[i]] + (weights[i])\n",
        "\n",
        "  # Othwise, add the female weigths\n",
        "  elif d['Gender'] == 'Female':\n",
        "    for i in range(len(map)):\n",
        "      Female[map[i]] = Female[map[i]] + (weights[i])\n",
        "\n",
        "# Populate Male_D and Female_D\n",
        "df.apply(func, axis=1)\n",
        "\n",
        "# Create the figure\n",
        "fig, (ax1) = plt.subplots(figsize=(15, 8))\n",
        "fig.suptitle('Survey: Male vs Female Gym Zone Usage')\n",
        "fig.tight_layout()\n",
        "\n",
        "# Create the graph's and plot\n",
        "plotdata = pd.DataFrame({ \"Male\": Male, \"Female\": Female }, index=zone_map)\n",
        "plotdata.plot(kind='bar', ax=ax1)\n",
        "\n",
        "#ax1.plot(kind=\"bar\",figsize=(15, 8))\n",
        "#plt.title(f\"{season} Average Male vs Female Weekly Swipe Frequency\")\n",
        "\n",
        "fig.show()\n",
        "\n",
        "male_congestion_data = Male\n",
        "female_congestion_data = Female"
      ],
      "metadata": {
        "id": "Hc1RvkaqeZAP"
      },
      "execution_count": null,
      "outputs": []
    },
    {
      "cell_type": "markdown",
      "source": [
        "***Graph*** \\\n",
        "**Students Who Believe Gym is Congested**  \n",
        "*Dependent Data Only*  \n",
        "\n",
        "Goal of this graph is to display from the survey how many students believe the gym is congested.\n",
        "\n",
        "\n",
        "\n"
      ],
      "metadata": {
        "id": "hXkaKe9Kh1MN"
      }
    },
    {
      "cell_type": "code",
      "source": [
        "df = d_df\n",
        "\n",
        "labels = [\"no, it is always occupied and I have to wait 10 minutes or longer\", \"sometimes, I have to wait several minutes\", \"yes, I can use it and don't have to wait\"]\n",
        "data = [0, 0, 0]\n",
        "\n",
        "def func(d):\n",
        "    val = d['When looking for the equipment you want to use, is it available?']\n",
        "    if not (type(val) == float and math.isnan(val)):\n",
        "      index = labels.index(val)\n",
        "      data[index] = data[index] + 1\n",
        "\n",
        "# Populate Male_D and Female_D\n",
        "df.apply(func, axis=1)\n",
        "\n",
        "# Create the figure\n",
        "fig, (ax1) = plt.subplots(figsize=(15, 8))\n",
        "fig.suptitle('When looking for the equipment you want to use, is it available?')\n",
        "fig.tight_layout()\n",
        "\n",
        "# Create the graph's and plot\n",
        "plotdata = pd.DataFrame({ \"data\":data, \"labels\":labels })\n",
        "plotdata.plot.pie(y='data', labels=labels, title=\"\", legend=True, autopct='%1.1f%%', explode=(0, 0, 0.1), shadow=True, startangle=0, ax=ax1, )\n",
        "\n",
        "\n",
        "fig.show()\n",
        "\n"
      ],
      "metadata": {
        "id": "30DJoDzYh0wS"
      },
      "execution_count": null,
      "outputs": []
    },
    {
      "cell_type": "markdown",
      "source": [
        "***Graph*** \\\n",
        "**Overlay Model**  \\\n",
        "**Time of Day vs Gym Congestion** \\\n",
        "*Independent vs Dependent Data*  \n",
        "\n",
        "Goal of this graph is to chart what times of days certian zones of the gym tend to be the most congested \\\n",
        "This will then be releated to the DesReq chart for scheduled gym zones.\n",
        "\n",
        "Time Series graph\n",
        "\n",
        "**Previous Cells Required!!**  \\\n",
        "*Male vs Female Gym Zone Usage*  \\\n",
        "*Male vs Female Average Daily Swipe Time*\n",
        "\n",
        "\n"
      ],
      "metadata": {
        "id": "NTWX0vDp6eGM"
      }
    },
    {
      "cell_type": "code",
      "source": [
        "\n",
        "# There are 7 zones\n",
        "# I want to make a line for each zone\n",
        "\n",
        "times = ['06AM', '07AM', '08AM', '09AM', '10AM', '11AM', '12PM', '01PM', '02PM', '03PM', '04PM', '05PM', '06PM', '07PM', '08PM', '09PM', '10PM']\n",
        "zone_map = ['Cardio (front room)',\t'Cables Area (middle room)',\t'Weight Room (back room)', 'Studio 1 (front)', 'Spin Studio',\t'Studio 3 (located in Weight Room)',\t'Indoor Track']\n",
        "\n",
        "# Create the function x to define how congested a zone is at a time\n",
        "def x(m_df, f_df, zone):\n",
        "\n",
        "  # Find the congestion over every hour for Males and Females\n",
        "  # Pre-defined in Variables\n",
        "  # male_congestion_data\n",
        "  # female_congestion_data\n",
        "\n",
        "  vals = []\n",
        "\n",
        "  # Loop over all of the dates\n",
        "  for time in range(len(times)):\n",
        "\n",
        "    # Formula represents the swipe time of males and females in relation to the congestion that a Male or Female brings to a zone\n",
        "    # Formula = (m_df[time] * male_congestion_data[zone]) + (f_df[time] + female_congestion_data[zone])\n",
        "    Formula = (m_df[time] * male_congestion_data[zone]) + (f_df[time] * female_congestion_data[zone])\n",
        "    total = Formula\n",
        "    #swipe_count = m_df[time] + f_df[time]\n",
        "    #congestion_level = male_congestion_data[zone] + female_congestion_data[zone]\n",
        "    #total = swipe_count * congestion_level\n",
        "    vals.append(total)\n",
        "\n",
        "  return vals\n",
        "\n",
        "# Plot information\n",
        "plt.tight_layout() # Assign a tigh layout for the plots\n",
        "# Plot the averages constructed\n",
        "fig, (ax1, ax2, ax3, ax4, ax5, ax6, ax7) = plt.subplots(7, figsize=(15, 45))\n",
        "fig.suptitle(f\"{season} Overlay Model\")\n",
        "fig.tight_layout()\n",
        "\n",
        "ax1.set_title(\"Monday\")\n",
        "ax2.set_title(\"Tuseday\")\n",
        "ax3.set_title(\"Wednesday\")\n",
        "ax4.set_title(\"Thursday\")\n",
        "ax5.set_title(\"Friday\")\n",
        "ax6.set_title(\"Saturday\")\n",
        "ax7.set_title(\"Sunday\")\n",
        "\n",
        "axis = [ax1, ax2, ax3, ax4, ax5, ax6, ax7]\n",
        "\n",
        "for a in range(len(axis)):\n",
        "  # Append all Weekday Male Averages to the graph\n",
        "  day = a # Monday\n",
        "  res = []\n",
        "  for zone in range(len(zone_map)):\n",
        "    # Find the number of swipes over every hour for Male and Females\n",
        "    swipe_count_male = [Male_Swipe[day][x] if x in Male_Swipe[day] else 0.0 for x in dates]\n",
        "    swipe_count_female = [Female_Swipe[day][x] if x in Female_Swipe[day] else 0.0 for x in dates]\n",
        "    vals = x(swipe_count_male, swipe_count_female, zone)\n",
        "    res.append(vals)\n",
        "    axis[a].plot(times, vals, '-', label=zone_map[zone]) # this will show date at the x-axis\n",
        "  #axis[a].stackplot(times, res[0], res[1], res[2], res[3], res[4], res[5], res[6], labels=zone_map) # this will show date at the x-axis\n",
        "\n",
        "# Legend\n",
        "ax1.legend()\n",
        "ax2.legend()\n",
        "ax3.legend()\n",
        "ax4.legend()\n",
        "ax5.legend()\n",
        "ax6.legend()\n",
        "ax7.legend()\n",
        "\n",
        "fig.show()\n",
        "\n"
      ],
      "metadata": {
        "id": "uozIaayr9GDQ"
      },
      "execution_count": null,
      "outputs": []
    },
    {
      "cell_type": "markdown",
      "source": [
        "**Questions and Responses**"
      ],
      "metadata": {
        "id": "6Yw2q1Nm8LQ_"
      }
    },
    {
      "cell_type": "code",
      "source": [
        "number_of_male_swipes = i_data['Gender'].value_counts()['Male']\n",
        "number_of_female_swipes = i_data['Gender'].value_counts()['Female']\n",
        "\n",
        "print(number_of_male_swipes)\n",
        "print(number_of_female_swipes)\n",
        "print(f\"Ratio of Male to Female swipes {number_of_male_swipes/number_of_female_swipes}x\")\n",
        "\n",
        "# Assuming your DataFrame is named 'df'\n",
        "# If your 'Date' column is not already in datetime format, you can convert it\n",
        "# Now, let's create the pie chart\n",
        "gender_counts = i_data['Gender'].value_counts()\n",
        "plt.figure(figsize=(8, 6))\n",
        "plt.pie(gender_counts, labels=gender_counts.index, autopct='%1.1f%%', startangle=140)\n",
        "plt.title('Distribution of Gender')\n",
        "plt.axis('equal')  # Equal aspect ratio ensures that pie is drawn as a circle.\n",
        "plt.show()\n",
        "\n",
        "i_data"
      ],
      "metadata": {
        "id": "fuT4bDT98LbK"
      },
      "execution_count": null,
      "outputs": []
    },
    {
      "cell_type": "code",
      "source": [
        "\n"
      ],
      "metadata": {
        "id": "vEqDiDpECuDm"
      },
      "execution_count": null,
      "outputs": []
    }
  ]
}